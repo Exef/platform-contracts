{
 "cells": [
  {
   "cell_type": "code",
   "execution_count": 566,
   "metadata": {
    "collapsed": false
   },
   "outputs": [],
   "source": [
    "%matplotlib inline\n",
    "#import matplotlib\n",
    "#matplotlib.use('tkAgg')\n",
    "import matplotlib.pyplot as plt\n",
    "import sys\n",
    "import math\n",
    "import numpy as np\n",
    "import scipy as sp\n",
    "import scipy.optimize\n",
    "import scipy.misc\n",
    "import scipy.special"
   ]
  },
  {
   "cell_type": "code",
   "execution_count": 319,
   "metadata": {
    "collapsed": true
   },
   "outputs": [],
   "source": [
    "CAP = 15 * 10**8\n",
    "S = -6.5"
   ]
  },
  {
   "cell_type": "code",
   "execution_count": 755,
   "metadata": {
    "collapsed": true
   },
   "outputs": [],
   "source": [
    "def issued(cummulative_euros):\n",
    "    if(cummulative_euros >= CAP):\n",
    "        cummulative_euros = CAP\n",
    "    return np.floor(CAP * (1 - np.exp(S * cummulative_euros / CAP) ))\n",
    "\n",
    "def frac(cummulative_euros):\n",
    "    return issued(cummulative_euros) / issued(CAP)\n",
    "\n",
    "def issuance(cummulative_euros):\n",
    "    return scipy.misc.derivative(issued, cummulative_euros, dx=0.00001, n=1, order=7)"
   ]
  },
  {
   "cell_type": "code",
   "execution_count": 71,
   "metadata": {
    "collapsed": false
   },
   "outputs": [
    {
     "data": {
      "text/plain": [
       "array([ 6.49258425,  4.21088189,  0.02272427])"
      ]
     },
     "execution_count": 71,
     "metadata": {},
     "output_type": "execute_result"
    }
   ],
   "source": [
    "issuance(np.array([0.0, 10**8, CAP]))"
   ]
  },
  {
   "cell_type": "code",
   "execution_count": 72,
   "metadata": {
    "collapsed": false
   },
   "outputs": [
    {
     "data": {
      "text/plain": [
       "array([  0.00000000e+00,   5.27483488e+08,   1.49774484e+09])"
      ]
     },
     "execution_count": 72,
     "metadata": {},
     "output_type": "execute_result"
    }
   ],
   "source": [
    "issued(np.array([0.0, 10**8, CAP]))"
   ]
  },
  {
   "cell_type": "code",
   "execution_count": 73,
   "metadata": {
    "collapsed": false
   },
   "outputs": [
    {
     "data": {
      "text/plain": [
       "array([ 0.        ,  0.35218515,  1.        ])"
      ]
     },
     "execution_count": 73,
     "metadata": {},
     "output_type": "execute_result"
    }
   ],
   "source": [
    "frac(np.array([0.0, 10**8, CAP]))"
   ]
  },
  {
   "cell_type": "code",
   "execution_count": 258,
   "metadata": {
    "collapsed": false
   },
   "outputs": [
    {
     "data": {
      "image/png": "[encoded data removed]",
      "text/plain": [
       "<matplotlib.figure.Figure at 0x7f7f61b494e0>"
      ]
     },
     "metadata": {},
     "output_type": "display_data"
    }
   ],
   "source": [
    "e = np.arange(0.0, CAP, CAP / 10**3)\n",
    "n = np.floor(issued(e))\n",
    "plt.plot(e, n)\n",
    "\n",
    "plt.xlabel('€ invested')\n",
    "plt.ylabel('NMK issued')\n",
    "plt.title('Neumark issuance curve')\n",
    "plt.grid(True)\n",
    "plt.savefig(\"Issued.png\")\n",
    "plt.show()"
   ]
  },
  {
   "cell_type": "code",
   "execution_count": 259,
   "metadata": {
    "collapsed": false
   },
   "outputs": [
    {
     "data": {
      "image/png": "[encoded data removed]",
      "text/plain": [
       "<matplotlib.figure.Figure at 0x7f7f61cd9160>"
      ]
     },
     "metadata": {},
     "output_type": "display_data"
    }
   ],
   "source": [
    "e = np.arange(0.0, CAP, CAP / 10**3)\n",
    "n = issuance(e)\n",
    "plt.plot(e, n)\n",
    "\n",
    "plt.xlabel('€ invested')\n",
    "plt.ylabel('NMK/€')\n",
    "plt.title('Neumark \"price\" curve')\n",
    "plt.grid(True)\n",
    "plt.savefig(\"Issuance.png\")\n",
    "plt.show()"
   ]
  },
  {
   "cell_type": "code",
   "execution_count": null,
   "metadata": {
    "collapsed": true
   },
   "outputs": [],
   "source": [
    "def ref_exp(k, n, d, e):\n",
    "    '''Computes k · (1 - n / d)^e '''\n",
    "    return k * (1 - n / d) ** e\n",
    "\n",
    "def binomial_exp(k, n, d, e):\n",
    "    '''Computes k · (1 - n / d)^e '''\n",
    "    # https://ethereum.stackexchange.com/questions/10425/is-there-any-efficient-way-to-compute-the-exponentiation-of-a-fraction-and-an-in/10432\n",
    "    s = 0\n",
    "    N = 1\n",
    "    B = 1 # Binomial coefficient\n",
    "    for i in range(22):\n",
    "        \n",
    "        s += k * (N / B) * (-1)**i * ((n ** i) / (d ** i))\n",
    "        \n",
    "        # Update binomial fraction\n",
    "        N = N * (e - i)\n",
    "        B = B * (i + 1)\n",
    "    \n",
    "    return s"
   ]
  },
  {
   "cell_type": "code",
   "execution_count": 746,
   "metadata": {
    "collapsed": false
   },
   "outputs": [],
   "source": [
    "A = 1 - np.exp(S / CAP)\n",
    "D = 2**54\n",
    "N = int(np.round(A * D))\n",
    "\n",
    "# Mathematica: round[ (1 - exp[ -65 / (15 * 10^9)  ]) * 2^64  ]\n",
    "D = 2**64\n",
    "N = 79935890813\n",
    "\n",
    "# Mathematica: round[ (1 - exp[ -65 / (15 * 10^9)  ]) * 2^96  ]\n",
    "D = 2**96\n",
    "N = 343322036817947715929\n",
    "\n",
    "# Mathematica: round[ (1 - exp[ -65 / (15 * 10^9)  ]) * 2^128  ]\n",
    "#D = 2**128\n",
    "#N = 1474556920129193345753962535832\n",
    "\n",
    "def rescale(N, D):\n",
    "    t = 2**128\n",
    "    s = 2**32\n",
    "    while N > t or D > t:\n",
    "        N = N // s\n",
    "        D = D // s\n",
    "    return N, D\n",
    "\n",
    "def opt_exp(k, n, d, e):\n",
    "    '''Computes k - k · (1 - n / d)^e '''\n",
    "    i = 0\n",
    "    N = k\n",
    "    D = 1\n",
    "    s = 0\n",
    "    while i < 34:\n",
    "        N, D = rescale(N, D)\n",
    "        N *= (e - i) * n\n",
    "        i += 1\n",
    "        D *= i * d\n",
    "        s += N // D\n",
    "        assert(N < 2**256)\n",
    "        assert(D < 2**256)\n",
    "        N, D = rescale(N, D)\n",
    "        N *= (e - i) * n\n",
    "        i += 1\n",
    "        D *= i * d\n",
    "        s -= N // D\n",
    "        assert(N < 2**256)\n",
    "        assert(D < 2**256)\n",
    "    return s\n",
    "\n",
    "def implementation(x):\n",
    "    x = int(x)\n",
    "    if x >= CAP:\n",
    "        c = CAP \n",
    "    my = opt_exp(2**32 * CAP, N, D, x) // 2**32\n",
    "    #ex = np.floor(issued(x))\n",
    "    #if(np.abs(my - ex) == 7):\n",
    "    #    print(x)\n",
    "    #    assert(false)\n",
    "    return my"
   ]
  },
  {
   "cell_type": "code",
   "execution_count": 747,
   "metadata": {
    "collapsed": false
   },
   "outputs": [
    {
     "data": {
      "image/png": "[encoded data removed]",
      "text/plain": [
       "<matplotlib.figure.Figure at 0x7f7f9c652470>"
      ]
     },
     "metadata": {},
     "output_type": "display_data"
    }
   ],
   "source": [
    "e = np.arange(1, CAP, CAP / 10**3)\n",
    "i = np.array([implementation(x) for x in e])\n",
    "a = np.floor(issued(e))\n",
    "n = np.abs(i - a)\n",
    "plt.plot(e, n)\n",
    "\n",
    "plt.xlabel('€ invested')\n",
    "plt.ylabel('Absolute error')\n",
    "plt.title('Neumark curve approximation')\n",
    "plt.grid(True)\n",
    "plt.savefig(\"Issuance.png\")\n",
    "plt.show()"
   ]
  },
  {
   "cell_type": "code",
   "execution_count": 522,
   "metadata": {
    "collapsed": false
   },
   "outputs": [
    {
     "data": {
      "text/plain": [
       "[4.3333333588080336e-09, 78062394, 18014398509481984]"
      ]
     },
     "execution_count": 522,
     "metadata": {},
     "output_type": "execute_result"
    }
   ],
   "source": [
    "[A, N, D]"
   ]
  },
  {
   "cell_type": "code",
   "execution_count": 523,
   "metadata": {
    "collapsed": false
   },
   "outputs": [],
   "source": [
    "previous = 0\n",
    "for x in range(10**4):\n",
    "    new = implementation(x)\n",
    "    assert(new >= previous)\n",
    "    previous = new"
   ]
  },
  {
   "cell_type": "code",
   "execution_count": 299,
   "metadata": {
    "collapsed": false
   },
   "outputs": [
    {
     "data": {
      "text/plain": [
       "0.3521851501891406"
      ]
     },
     "execution_count": 299,
     "metadata": {},
     "output_type": "execute_result"
    }
   ],
   "source": [
    "implementation(10**8)/implementation(CAP)"
   ]
  },
  {
   "cell_type": "code",
   "execution_count": 628,
   "metadata": {
    "collapsed": false
   },
   "outputs": [
    {
     "data": {
      "text/plain": [
       "664341211"
      ]
     },
     "execution_count": 628,
     "metadata": {},
     "output_type": "execute_result"
    }
   ],
   "source": [
    "implementation(135000001)"
   ]
  },
  {
   "cell_type": "code",
   "execution_count": 630,
   "metadata": {
    "collapsed": false
   },
   "outputs": [
    {
     "data": {
      "text/plain": [
       "664341210.0"
      ]
     },
     "execution_count": 630,
     "metadata": {},
     "output_type": "execute_result"
    }
   ],
   "source": [
    "np.floor(issued(135000001))"
   ]
  },
  {
   "cell_type": "code",
   "execution_count": 549,
   "metadata": {
    "collapsed": false
   },
   "outputs": [
    {
     "data": {
      "text/plain": [
       "664341210"
      ]
     },
     "execution_count": 549,
     "metadata": {},
     "output_type": "execute_result"
    }
   ],
   "source": [
    "664341210 # Wolfram alpha"
   ]
  },
  {
   "cell_type": "code",
   "execution_count": 577,
   "metadata": {
    "collapsed": false
   },
   "outputs": [
    {
     "data": {
      "text/plain": [
       "78062394"
      ]
     },
     "execution_count": 577,
     "metadata": {},
     "output_type": "execute_result"
    }
   ],
   "source": [
    "N"
   ]
  },
  {
   "cell_type": "code",
   "execution_count": 581,
   "metadata": {
    "collapsed": false
   },
   "outputs": [
    {
     "data": {
      "text/plain": [
       "78062393"
      ]
     },
     "execution_count": 581,
     "metadata": {},
     "output_type": "execute_result"
    }
   ],
   "source": [
    "78062393"
   ]
  },
  {
   "cell_type": "code",
   "execution_count": 579,
   "metadata": {
    "collapsed": false
   },
   "outputs": [
    {
     "data": {
      "text/plain": [
       "-6.5"
      ]
     },
     "execution_count": 579,
     "metadata": {},
     "output_type": "execute_result"
    }
   ],
   "source": [
    "S"
   ]
  },
  {
   "cell_type": "code",
   "execution_count": 580,
   "metadata": {
    "collapsed": false
   },
   "outputs": [
    {
     "data": {
      "text/plain": [
       "-4.333333333333333e-09"
      ]
     },
     "execution_count": 580,
     "metadata": {},
     "output_type": "execute_result"
    }
   ],
   "source": [
    "S/CAP"
   ]
  },
  {
   "cell_type": "code",
   "execution_count": 699,
   "metadata": {
    "collapsed": false
   },
   "outputs": [
    {
     "data": {
      "text/plain": [
       "1500000000"
      ]
     },
     "execution_count": 699,
     "metadata": {},
     "output_type": "execute_result"
    }
   ],
   "source": [
    "CAP"
   ]
  },
  {
   "cell_type": "code",
   "execution_count": 737,
   "metadata": {
    "collapsed": false
   },
   "outputs": [
    {
     "data": {
      "text/plain": [
       "[0, 6, 12, 19, 25, 32, 38, 45, 51, 58]"
      ]
     },
     "execution_count": 737,
     "metadata": {},
     "output_type": "execute_result"
    }
   ],
   "source": [
    "[int(x) for x in \n",
    "issued(np.array(range(10)))]"
   ]
  },
  {
   "cell_type": "code",
   "execution_count": 741,
   "metadata": {
    "collapsed": false
   },
   "outputs": [
    {
     "data": {
      "text/plain": [
       "12"
      ]
     },
     "execution_count": 741,
     "metadata": {},
     "output_type": "execute_result"
    }
   ],
   "source": [
    "implementation(2)"
   ]
  },
  {
   "cell_type": "code",
   "execution_count": 767,
   "metadata": {
    "collapsed": false
   },
   "outputs": [
    {
     "data": {
      "text/plain": [
       "[[0, 0],\n",
       " [1, 6],\n",
       " [2, 12],\n",
       " [3, 19],\n",
       " [4, 25],\n",
       " [5, 32],\n",
       " [6, 38],\n",
       " [7, 45],\n",
       " [8, 51],\n",
       " [9, 58]]"
      ]
     },
     "execution_count": 767,
     "metadata": {},
     "output_type": "execute_result"
    }
   ],
   "source": [
    "[[x, int(issued(x))] for x in range(0, 10**1, 10**0)]"
   ]
  },
  {
   "cell_type": "code",
   "execution_count": null,
   "metadata": {
    "collapsed": true
   },
   "outputs": [],
   "source": []
  }
 ],
 "metadata": {
  "kernelspec": {
   "display_name": "Python 3",
   "language": "python",
   "name": "python3"
  },
  "language_info": {
   "codemirror_mode": {
    "name": "ipython",
    "version": 3
   },
   "file_extension": ".py",
   "mimetype": "text/x-python",
   "name": "python",
   "nbconvert_exporter": "python",
   "pygments_lexer": "ipython3",
   "version": "3.5.3"
  }
 },
 "nbformat": 4,
 "nbformat_minor": 2
}
